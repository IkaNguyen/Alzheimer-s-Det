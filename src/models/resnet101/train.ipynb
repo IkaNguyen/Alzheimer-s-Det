{
 "cells": [
  {
   "cell_type": "code",
   "execution_count": 4,
   "id": "7fcbbe76-1040-4535-8733-cb846337c7b9",
   "metadata": {},
   "outputs": [],
   "source": [
    "import os\n",
    "import torch\n",
    "import torch.nn as nn\n",
    "import torch.optim as optim\n",
    "from torch.utils.data import DataLoader, random_split\n",
    "from torchvision import datasets, models, transforms\n",
    "from tqdm import tqdm\n",
    "import matplotlib.pyplot as plt\n",
    "from sklearn.metrics import classification_report, confusion_matrix\n",
    "import numpy as np"
   ]
  },
  {
   "cell_type": "code",
   "execution_count": 5,
   "id": "f05501b0-5819-4238-ac74-00d4e066cd95",
   "metadata": {},
   "outputs": [],
   "source": [
    "# Khai báo đường dẫn đến dataset đã được tăng cường trước đó\n",
    "data_dir = r\"C:\\Users\\nguye\\Downloads\\ML-DL\\Dataset\\AlzheimerData_Augmented\"\n",
    "# Định nghĩa các phép biến đổi dữ liệu\n",
    "# Đây là các phép biến đổi được áp dụng trong quá trình huấn luyện và đánh giá\n",
    "# Chúng giúp chuẩn hóa và tiền xử lý ảnh để phù hợp với mô hình\n",
    "data_transforms = {\n",
    "    'train': transforms.Compose([\n",
    "        # Nếu muốn tăng cường thêm trong quá trình huấn luyện, bạn có thể thêm vào đây\n",
    "        transforms.Resize(256),\n",
    "        transforms.CenterCrop(224),\n",
    "        transforms.ToTensor(),\n",
    "        transforms.Normalize([0.485, 0.456, 0.406], [0.229, 0.224, 0.225])\n",
    "    ]),\n",
    "    'val_test': transforms.Compose([\n",
    "        transforms.Resize(256),\n",
    "        transforms.CenterCrop(224),\n",
    "        transforms.ToTensor(),\n",
    "        transforms.Normalize([0.485, 0.456, 0.406], [0.229, 0.224, 0.225])\n",
    "    ]),\n",
    "}"
   ]
  },
  {
   "cell_type": "code",
   "execution_count": 6,
   "id": "60ef69d2-aaa4-4d84-9c3c-3b0f73af9205",
   "metadata": {},
   "outputs": [
    {
     "name": "stdout",
     "output_type": "stream",
     "text": [
      "Các lớp tìm thấy: ['Mild Dementia', 'Moderate Dementia', 'Non Demented', 'Very mild Dementia']\n"
     ]
    }
   ],
   "source": [
    "# Tải dữ liệu bằng ImageFolder\n",
    "full_dataset = datasets.ImageFolder(data_dir, data_transforms['val_test']) \n",
    "class_names = full_dataset.classes\n",
    "print(f\"Các lớp tìm thấy: {class_names}\")"
   ]
  },
  {
   "cell_type": "code",
   "execution_count": 9,
   "id": "915acd44-efd2-4288-8ad4-8a92aa8b7f0e",
   "metadata": {},
   "outputs": [
    {
     "name": "stdout",
     "output_type": "stream",
     "text": [
      "Tổng số mẫu: 268217\n",
      "Kích thước tập huấn luyện: 187751\n",
      "Kích thước tập kiểm tra: 40232\n",
      "Kích thước tập đánh giá: 40234\n"
     ]
    }
   ],
   "source": [
    "# Bước 4: Chia dataset thành các tập train, validation và test\n",
    "dataset_size = len(full_dataset)\n",
    "train_size = int(0.7 * dataset_size)\n",
    "val_size = int(0.15 * dataset_size)\n",
    "test_size = dataset_size - train_size - val_size\n",
    "\n",
    "train_dataset, val_dataset, test_dataset = random_split(full_dataset, [train_size, val_size, test_size])\n",
    "\n",
    "# Áp dụng transform huấn luyện cho tập train\n",
    "train_dataset.dataset.transform = data_transforms['train']\n",
    "\n",
    "print(f\"Tổng số mẫu: {dataset_size}\")\n",
    "print(f\"Kích thước tập huấn luyện: {len(train_dataset)}\")\n",
    "print(f\"Kích thước tập kiểm tra: {len(val_dataset)}\")\n",
    "print(f\"Kích thước tập đánh giá: {len(test_dataset)}\")"
   ]
  },
  {
   "cell_type": "code",
   "execution_count": 10,
   "id": "67651db5-a4c4-441b-8467-3bf8e1d99187",
   "metadata": {},
   "outputs": [],
   "source": [
    "# Tạo DataLoader để load dữ liệu theo lô (batch)\n",
    "batch_size = 32\n",
    "train_loader = DataLoader(train_dataset, batch_size=batch_size, shuffle=True, num_workers=4)\n",
    "val_loader = DataLoader(val_dataset, batch_size=batch_size, shuffle=False, num_workers=4)\n",
    "test_loader = DataLoader(test_dataset, batch_size=batch_size, shuffle=False, num_workers=4)"
   ]
  },
  {
   "cell_type": "code",
   "execution_count": 11,
   "id": "c715bca2-2916-483b-b211-eb7a94e35713",
   "metadata": {},
   "outputs": [
    {
     "name": "stderr",
     "output_type": "stream",
     "text": [
      "C:\\Users\\nguye\\AppData\\Local\\Programs\\Python\\Python312\\Lib\\site-packages\\torchvision\\models\\_utils.py:208: UserWarning: The parameter 'pretrained' is deprecated since 0.13 and may be removed in the future, please use 'weights' instead.\n",
      "  warnings.warn(\n",
      "C:\\Users\\nguye\\AppData\\Local\\Programs\\Python\\Python312\\Lib\\site-packages\\torchvision\\models\\_utils.py:223: UserWarning: Arguments other than a weight enum or `None` for 'weights' are deprecated since 0.13 and may be removed in the future. The current behavior is equivalent to passing `weights=ResNet101_Weights.IMAGENET1K_V1`. You can also use `weights=ResNet101_Weights.DEFAULT` to get the most up-to-date weights.\n",
      "  warnings.warn(msg)\n",
      "Downloading: \"https://download.pytorch.org/models/resnet101-63fe2227.pth\" to C:\\Users\\nguye/.cache\\torch\\hub\\checkpoints\\resnet101-63fe2227.pth\n",
      "100%|███████████████████████████████████████████████████████████████████████████████| 171M/171M [00:09<00:00, 18.9MB/s]\n"
     ]
    }
   ],
   "source": [
    "# Tải mô hình ResNet-101\n",
    "# Sử dụng pretrained=True để tải mô hình đã được huấn luyện trước trên ImageNet\n",
    "model = models.resnet101(pretrained=True)\n",
    "\n",
    "# Tùy chỉnh lớp cuối cùng của mô hình\n",
    "# Số đặc trưng đầu vào (in_features) của lớp cuối cùng của ResNet-101\n",
    "num_ftrs = model.fc.in_features\n",
    "# Thay thế lớp cuối cùng bằng một lớp tuyến tính mới với 4 đầu ra (tương ứng với 4 lớp)\n",
    "model.fc = nn.Linear(num_ftrs, len(class_names))"
   ]
  },
  {
   "cell_type": "code",
   "execution_count": 13,
   "id": "55afcc75-a0bd-4904-bbc9-f578f37ce8f4",
   "metadata": {},
   "outputs": [
    {
     "name": "stdout",
     "output_type": "stream",
     "text": [
      "Sử dụng thiết bị: cuda\n"
     ]
    }
   ],
   "source": [
    "# Chuyển đổi mô hình sang GPU\n",
    "device = torch.device(\"cuda\" if torch.cuda.is_available() else \"cpu\")\n",
    "model = model.to(device)\n",
    "print(f\"Sử dụng thiết bị: {device}\")"
   ]
  },
  {
   "cell_type": "code",
   "execution_count": 14,
   "id": "2a2a4b77-0b12-417e-8097-9405382c9693",
   "metadata": {},
   "outputs": [],
   "source": [
    "# Định nghĩa hàm mất mát và bộ tối ưu\n",
    "criterion = nn.CrossEntropyLoss()\n",
    "optimizer = optim.Adam(model.parameters(), lr=0.001)"
   ]
  },
  {
   "cell_type": "code",
   "execution_count": 16,
   "id": "2736cd24-0683-4e9f-b591-69530a39dcdd",
   "metadata": {},
   "outputs": [
    {
     "name": "stdout",
     "output_type": "stream",
     "text": [
      "Epoch 1/10\n",
      "----------\n"
     ]
    },
    {
     "name": "stderr",
     "output_type": "stream",
     "text": [
      "Training:   1%|▋                                                                   | 61/5868 [05:00<7:56:48,  4.93s/it]\n"
     ]
    },
    {
     "ename": "KeyboardInterrupt",
     "evalue": "",
     "output_type": "error",
     "traceback": [
      "\u001b[1;31m---------------------------------------------------------------------------\u001b[0m",
      "\u001b[1;31mKeyboardInterrupt\u001b[0m                         Traceback (most recent call last)",
      "Cell \u001b[1;32mIn[16], line 26\u001b[0m\n\u001b[0;32m     23\u001b[0m         loss\u001b[38;5;241m.\u001b[39mbackward()\n\u001b[0;32m     24\u001b[0m         optimizer\u001b[38;5;241m.\u001b[39mstep()\n\u001b[1;32m---> 26\u001b[0m     running_loss \u001b[38;5;241m+\u001b[39m\u001b[38;5;241m=\u001b[39m \u001b[43mloss\u001b[49m\u001b[38;5;241;43m.\u001b[39;49m\u001b[43mitem\u001b[49m\u001b[43m(\u001b[49m\u001b[43m)\u001b[49m \u001b[38;5;241m*\u001b[39m inputs\u001b[38;5;241m.\u001b[39msize(\u001b[38;5;241m0\u001b[39m)\n\u001b[0;32m     27\u001b[0m     running_corrects \u001b[38;5;241m+\u001b[39m\u001b[38;5;241m=\u001b[39m torch\u001b[38;5;241m.\u001b[39msum(preds \u001b[38;5;241m==\u001b[39m labels\u001b[38;5;241m.\u001b[39mdata)\n\u001b[0;32m     29\u001b[0m epoch_loss \u001b[38;5;241m=\u001b[39m running_loss \u001b[38;5;241m/\u001b[39m \u001b[38;5;28mlen\u001b[39m(train_dataset)\n",
      "\u001b[1;31mKeyboardInterrupt\u001b[0m: "
     ]
    }
   ],
   "source": [
    "# Bắt đầu quá trình huấn luyện\n",
    "epochs = 10 # Số lượng vòng lặp huấn luyện\n",
    "\n",
    "best_val_acc = 0.0\n",
    "history = {'train_loss': [], 'train_acc': [], 'val_loss': [], 'val_acc': []}\n",
    "\n",
    "for epoch in range(epochs):\n",
    "    print(f'Epoch {epoch+1}/{epochs}')\n",
    "    print('-' * 10)\n",
    "\n",
    "    # Giai đoạn huấn luyện\n",
    "    model.train()\n",
    "    running_loss = 0.0\n",
    "    running_corrects = 0\n",
    "\n",
    "    for inputs, labels in tqdm(train_loader, desc=\"Training\"):\n",
    "        inputs, labels = inputs.to(device), labels.to(device)\n",
    "        optimizer.zero_grad()\n",
    "        with torch.set_grad_enabled(True):\n",
    "            outputs = model(inputs)\n",
    "            _, preds = torch.max(outputs, 1)\n",
    "            loss = criterion(outputs, labels)\n",
    "            loss.backward()\n",
    "            optimizer.step()\n",
    "\n",
    "        running_loss += loss.item() * inputs.size(0)\n",
    "        running_corrects += torch.sum(preds == labels.data)\n",
    "\n",
    "    epoch_loss = running_loss / len(train_dataset)\n",
    "    epoch_acc = running_corrects.double() / len(train_dataset)\n",
    "    history['train_loss'].append(epoch_loss)\n",
    "    history['train_acc'].append(epoch_acc.item())\n",
    "    print(f'Huấn luyện: Mất mát = {epoch_loss:.4f}, Độ chính xác = {epoch_acc:.4f}')\n",
    "\n",
    "    # Giai đoạn kiểm tra (validation)\n",
    "    model.eval()\n",
    "    running_loss = 0.0\n",
    "    running_corrects = 0\n",
    "\n",
    "    for inputs, labels in tqdm(val_loader, desc=\"Validating\"):\n",
    "        inputs, labels = inputs.to(device), labels.to(device)\n",
    "        with torch.no_grad():\n",
    "            outputs = model(inputs)\n",
    "            _, preds = torch.max(outputs, 1)\n",
    "            loss = criterion(outputs, labels)\n",
    "\n",
    "        running_loss += loss.item() * inputs.size(0)\n",
    "        running_corrects += torch.sum(preds == labels.data)\n",
    "\n",
    "    epoch_loss = running_loss / len(val_dataset)\n",
    "    epoch_acc = running_corrects.double() / len(val_dataset)\n",
    "    history['val_loss'].append(epoch_loss)\n",
    "    history['val_acc'].append(epoch_acc.item())\n",
    "    print(f'Kiểm tra: Mất mát = {epoch_loss:.4f}, Độ chính xác = {epoch_acc:.4f}')\n",
    "\n",
    "    # Lưu mô hình tốt nhất\n",
    "    if epoch_acc > best_val_acc:\n",
    "        best_val_acc = epoch_acc\n",
    "        torch.save(model.state_dict(), 'best_model.pth')\n",
    "        print(\"Đã lưu mô hình tốt nhất!\")\n",
    "\n",
    "print(\"\\n--- Huấn luyện hoàn tất ---\")\n",
    "print(f\"Độ chính xác cao nhất trên tập kiểm tra: {best_val_acc:.4f}\")"
   ]
  },
  {
   "cell_type": "code",
   "execution_count": null,
   "id": "71d5e69f-4684-462b-9e35-58512b74c24e",
   "metadata": {},
   "outputs": [],
   "source": [
    "# Đánh giá mô hình trên tập test\n",
    "model.load_state_dict(torch.load('best_model.pth'))\n",
    "model.eval()\n",
    "all_preds = []\n",
    "all_labels = []\n",
    "\n",
    "print(\"\\n--- Đánh giá mô hình trên tập test ---\")\n",
    "for inputs, labels in tqdm(test_loader, desc=\"Testing\"):\n",
    "    inputs, labels = inputs.to(device), labels.to(device)\n",
    "    with torch.no_grad():\n",
    "        outputs = model(inputs)\n",
    "        _, preds = torch.max(outputs, 1)\n",
    "        all_preds.extend(preds.cpu().numpy())\n",
    "        all_labels.extend(labels.cpu().numpy())\n",
    "\n",
    "# In báo cáo phân loại và ma trận nhầm lẫn\n",
    "print(\"\\nBáo cáo phân loại:\")\n",
    "print(classification_report(all_labels, all_preds, target_names=class_names))\n",
    "\n",
    "print(\"Ma trận nhầm lẫn:\")\n",
    "conf_matrix = confusion_matrix(all_labels, all_preds)\n",
    "print(conf_matrix)"
   ]
  },
  {
   "cell_type": "code",
   "execution_count": null,
   "id": "a73c7470-5bb1-465c-b1fa-7d6b7a5d5dba",
   "metadata": {},
   "outputs": [],
   "source": [
    "# Vẽ biểu đồ lịch sử huấn luyện\n",
    "plt.figure(figsize=(12, 5))\n",
    "plt.subplot(1, 2, 1)\n",
    "plt.plot(history['train_acc'], label='Độ chính xác huấn luyện')\n",
    "plt.plot(history['val_acc'], label='Độ chính xác kiểm tra')\n",
    "plt.title('Độ chính xác Huấn luyện và Kiểm tra')\n",
    "plt.xlabel('Epoch')\n",
    "plt.ylabel('Độ chính xác')\n",
    "plt.legend()\n",
    "\n",
    "plt.subplot(1, 2, 2)\n",
    "plt.plot(history['train_loss'], label='Mất mát huấn luyện')\n",
    "plt.plot(history['val_loss'], label='Mất mát kiểm tra')\n",
    "plt.title('Mất mát Huấn luyện và Kiểm tra')\n",
    "plt.xlabel('Epoch')\n",
    "plt.ylabel('Mất mát')\n",
    "plt.legend()\n",
    "\n",
    "plt.show()"
   ]
  }
 ],
 "metadata": {
  "kernelspec": {
   "display_name": "Python 3 (ipykernel)",
   "language": "python",
   "name": "python3"
  },
  "language_info": {
   "codemirror_mode": {
    "name": "ipython",
    "version": 3
   },
   "file_extension": ".py",
   "mimetype": "text/x-python",
   "name": "python",
   "nbconvert_exporter": "python",
   "pygments_lexer": "ipython3",
   "version": "3.12.0"
  }
 },
 "nbformat": 4,
 "nbformat_minor": 5
}
