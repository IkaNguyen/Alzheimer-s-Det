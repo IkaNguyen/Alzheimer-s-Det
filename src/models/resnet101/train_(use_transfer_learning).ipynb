{
 "cells": [
  {
   "cell_type": "code",
   "execution_count": 1,
   "id": "429c9978-7526-4e12-85c5-04d572bceb9f",
   "metadata": {},
   "outputs": [],
   "source": [
    "import os\n",
    "import torch\n",
    "import torch.nn as nn\n",
    "import torch.optim as optim\n",
    "from torch.utils.data import DataLoader, random_split\n",
    "from torchvision import datasets, models, transforms\n",
    "from tqdm import tqdm\n",
    "import matplotlib.pyplot as plt\n",
    "from sklearn.metrics import classification_report, confusion_matrix\n",
    "import numpy as np"
   ]
  },
  {
   "cell_type": "code",
   "execution_count": null,
   "id": "23740ae8-6fe9-47f8-8b20-6ad29877be59",
   "metadata": {},
   "outputs": [],
   "source": [
    "# Khai báo đường dẫn đến dataset đã được tăng cường trước đó\n",
    "data_dir = r\"C:\\Users\\nguye\\Downloads\\ML-DL\\Dataset\\AlzheimerData_Augmented\"\n",
    "# Định nghĩa các phép biến đổi dữ liệu\n",
    "# Chúng giúp chuẩn hóa và tiền xử lý ảnh để phù hợp với mô hình\n",
    "data_transforms = {\n",
    "    'train': transforms.Compose([\n",
    "        transforms.Resize(256),\n",
    "        transforms.CenterCrop(224),\n",
    "        transforms.ToTensor(),\n",
    "        transforms.Normalize([0.485, 0.456, 0.406], [0.229, 0.224, 0.225])\n",
    "    ]),\n",
    "    'val_test': transforms.Compose([\n",
    "        transforms.Resize(256),\n",
    "        transforms.CenterCrop(224),\n",
    "        transforms.ToTensor(),\n",
    "        transforms.Normalize([0.485, 0.456, 0.406], [0.229, 0.224, 0.225])\n",
    "    ]),\n",
    "}"
   ]
  },
  {
   "cell_type": "code",
   "execution_count": 3,
   "id": "91502d39-1a6c-4045-aa8e-a28f8cbdf273",
   "metadata": {},
   "outputs": [
    {
     "name": "stdout",
     "output_type": "stream",
     "text": [
      "Các lớp tìm thấy: ['Mild Dementia', 'Moderate Dementia', 'Non Demented', 'Very mild Dementia']\n"
     ]
    }
   ],
   "source": [
    "# Tải dữ liệu bằng ImageFolder\n",
    "full_dataset = datasets.ImageFolder(data_dir, data_transforms['val_test']) \n",
    "class_names = full_dataset.classes\n",
    "print(f\"Các lớp tìm thấy: {class_names}\")"
   ]
  },
  {
   "cell_type": "code",
   "execution_count": 4,
   "id": "3c171ff7-fde2-46da-9c3a-3e09eefe0fb2",
   "metadata": {},
   "outputs": [
    {
     "name": "stdout",
     "output_type": "stream",
     "text": [
      "Tổng số mẫu: 268217\n",
      "Kích thước tập huấn luyện: 187751\n",
      "Kích thước tập kiểm tra: 40232\n",
      "Kích thước tập đánh giá: 40234\n"
     ]
    }
   ],
   "source": [
    "# Chia dataset thành các tập train, validation và test\n",
    "dataset_size = len(full_dataset)\n",
    "train_size = int(0.7 * dataset_size)\n",
    "val_size = int(0.15 * dataset_size)\n",
    "test_size = dataset_size - train_size - val_size\n",
    "\n",
    "train_dataset, val_dataset, test_dataset = random_split(full_dataset, [train_size, val_size, test_size])\n",
    "\n",
    "# Áp dụng transform huấn luyện cho tập train\n",
    "train_dataset.dataset.transform = data_transforms['train']\n",
    "\n",
    "print(f\"Tổng số mẫu: {dataset_size}\")\n",
    "print(f\"Kích thước tập huấn luyện: {len(train_dataset)}\")\n",
    "print(f\"Kích thước tập kiểm tra: {len(val_dataset)}\")\n",
    "print(f\"Kích thước tập đánh giá: {len(test_dataset)}\")"
   ]
  },
  {
   "cell_type": "code",
   "execution_count": 5,
   "id": "a9a8e388-67f5-4d67-b70e-ce2d2fc73ce6",
   "metadata": {},
   "outputs": [],
   "source": [
    "# Tạo DataLoader để load dữ liệu theo lô (batch)\n",
    "batch_size = 32\n",
    "train_loader = DataLoader(train_dataset, batch_size=batch_size, shuffle=True, num_workers=4)\n",
    "val_loader = DataLoader(val_dataset, batch_size=batch_size, shuffle=False, num_workers=4)\n",
    "test_loader = DataLoader(test_dataset, batch_size=batch_size, shuffle=False, num_workers=4)"
   ]
  },
  {
   "cell_type": "code",
   "execution_count": 6,
   "id": "31c1cd8f-6fc6-4884-bc7c-265cb75646b3",
   "metadata": {},
   "outputs": [
    {
     "name": "stderr",
     "output_type": "stream",
     "text": [
      "C:\\Users\\nguye\\AppData\\Local\\Programs\\Python\\Python312\\Lib\\site-packages\\torchvision\\models\\_utils.py:208: UserWarning: The parameter 'pretrained' is deprecated since 0.13 and may be removed in the future, please use 'weights' instead.\n",
      "  warnings.warn(\n",
      "C:\\Users\\nguye\\AppData\\Local\\Programs\\Python\\Python312\\Lib\\site-packages\\torchvision\\models\\_utils.py:223: UserWarning: Arguments other than a weight enum or `None` for 'weights' are deprecated since 0.13 and may be removed in the future. The current behavior is equivalent to passing `weights=ResNet101_Weights.IMAGENET1K_V1`. You can also use `weights=ResNet101_Weights.DEFAULT` to get the most up-to-date weights.\n",
      "  warnings.warn(msg)\n"
     ]
    }
   ],
   "source": [
    "# Tải mô hình ResNet-101 đã được huấn luyện trước\n",
    "model = models.resnet101(pretrained=True)"
   ]
  },
  {
   "cell_type": "code",
   "execution_count": 7,
   "id": "fa81184f-2040-451d-8f91-a8da4000f49e",
   "metadata": {},
   "outputs": [],
   "source": [
    "# Đóng băng các tham số của mô hình\n",
    "for param in model.parameters():\n",
    "    param.requires_grad = False"
   ]
  },
  {
   "cell_type": "code",
   "execution_count": 8,
   "id": "f5aab942-c903-488b-9366-21f1673d0f33",
   "metadata": {},
   "outputs": [],
   "source": [
    "# Thay thế lớp cuối cùng để phù hợp với số lượng lớp của bạn\n",
    "num_ftrs = model.fc.in_features\n",
    "model.fc = nn.Linear(num_ftrs, len(class_names))"
   ]
  },
  {
   "cell_type": "code",
   "execution_count": 9,
   "id": "77628751-8438-4318-899a-bc77c8b4f552",
   "metadata": {},
   "outputs": [
    {
     "name": "stdout",
     "output_type": "stream",
     "text": [
      "Sử dụng thiết bị: cuda\n"
     ]
    }
   ],
   "source": [
    "# Chuyển đổi mô hình sang GPU\n",
    "device = torch.device(\"cuda\" if torch.cuda.is_available() else \"cpu\")\n",
    "model = model.to(device)\n",
    "print(f\"Sử dụng thiết bị: {device}\")"
   ]
  },
  {
   "cell_type": "code",
   "execution_count": 10,
   "id": "1663d449-70c2-4f6b-a609-ffb053d493cf",
   "metadata": {},
   "outputs": [],
   "source": [
    "# Định nghĩa hàm mất mát và bộ tối ưu\n",
    "criterion = nn.CrossEntropyLoss()\n",
    "optimizer = optim.Adam(model.parameters(), lr=0.001)"
   ]
  },
  {
   "cell_type": "code",
   "execution_count": 11,
   "id": "ebbde94e-c097-4214-8a2c-31769ab209ac",
   "metadata": {},
   "outputs": [
    {
     "name": "stdout",
     "output_type": "stream",
     "text": [
      "\n",
      "--- Bắt đầu Giai đoạn 1: Huấn luyện lớp cuối cùng (5 epochs) ---\n",
      "Epoch 1/5\n",
      "----------\n"
     ]
    },
    {
     "name": "stderr",
     "output_type": "stream",
     "text": [
      "Training Phase 1: 100%|████████████████████████████████████████████████████████████| 5868/5868 [25:21<00:00,  3.86it/s]\n"
     ]
    },
    {
     "name": "stdout",
     "output_type": "stream",
     "text": [
      "Độ chính xác kiểm tra Giai đoạn 1: 0.7233\n",
      "Đã lưu mô hình tốt nhất Giai đoạn 1!\n",
      "Epoch 2/5\n",
      "----------\n"
     ]
    },
    {
     "name": "stderr",
     "output_type": "stream",
     "text": [
      "Training Phase 1: 100%|████████████████████████████████████████████████████████████| 5868/5868 [25:55<00:00,  3.77it/s]\n"
     ]
    },
    {
     "name": "stdout",
     "output_type": "stream",
     "text": [
      "Độ chính xác kiểm tra Giai đoạn 1: 0.6985\n",
      "Epoch 3/5\n",
      "----------\n"
     ]
    },
    {
     "name": "stderr",
     "output_type": "stream",
     "text": [
      "Training Phase 1: 100%|████████████████████████████████████████████████████████████| 5868/5868 [25:35<00:00,  3.82it/s]\n"
     ]
    },
    {
     "name": "stdout",
     "output_type": "stream",
     "text": [
      "Độ chính xác kiểm tra Giai đoạn 1: 0.7414\n",
      "Đã lưu mô hình tốt nhất Giai đoạn 1!\n",
      "Epoch 4/5\n",
      "----------\n"
     ]
    },
    {
     "name": "stderr",
     "output_type": "stream",
     "text": [
      "Training Phase 1: 100%|████████████████████████████████████████████████████████████| 5868/5868 [25:46<00:00,  3.79it/s]\n"
     ]
    },
    {
     "name": "stdout",
     "output_type": "stream",
     "text": [
      "Độ chính xác kiểm tra Giai đoạn 1: 0.7484\n",
      "Đã lưu mô hình tốt nhất Giai đoạn 1!\n",
      "Epoch 5/5\n",
      "----------\n"
     ]
    },
    {
     "name": "stderr",
     "output_type": "stream",
     "text": [
      "Training Phase 1: 100%|████████████████████████████████████████████████████████████| 5868/5868 [25:50<00:00,  3.78it/s]\n"
     ]
    },
    {
     "name": "stdout",
     "output_type": "stream",
     "text": [
      "Độ chính xác kiểm tra Giai đoạn 1: 0.7496\n",
      "Đã lưu mô hình tốt nhất Giai đoạn 1!\n"
     ]
    }
   ],
   "source": [
    "# Bắt đầu quá trình huấn luyện Giai đoạn 1\n",
    "epochs_phase1 = 5\n",
    "print(f\"\\n--- Bắt đầu Giai đoạn 1: Huấn luyện lớp cuối cùng ({epochs_phase1} epochs) ---\")\n",
    "best_val_acc = 0.0\n",
    "\n",
    "for epoch in range(epochs_phase1):\n",
    "    print(f'Epoch {epoch+1}/{epochs_phase1}')\n",
    "    print('-' * 10)\n",
    "\n",
    "    model.train()\n",
    "    for inputs, labels in tqdm(train_loader, desc=\"Training Phase 1\"):\n",
    "        inputs, labels = inputs.to(device), labels.to(device)\n",
    "        optimizer.zero_grad()\n",
    "        outputs = model(inputs)\n",
    "        loss = criterion(outputs, labels)\n",
    "        loss.backward()\n",
    "        optimizer.step()\n",
    "    \n",
    "    # Kiểm tra hiệu suất trên tập validation sau mỗi epoch\n",
    "    model.eval()\n",
    "    running_corrects = 0\n",
    "    with torch.no_grad():\n",
    "        for inputs, labels in val_loader:\n",
    "            inputs, labels = inputs.to(device), labels.to(device)\n",
    "            outputs = model(inputs)\n",
    "            _, preds = torch.max(outputs, 1)\n",
    "            running_corrects += torch.sum(preds == labels.data)\n",
    "    \n",
    "    val_acc = running_corrects.double() / len(val_dataset)\n",
    "    print(f'Độ chính xác kiểm tra Giai đoạn 1: {val_acc:.4f}')\n",
    "\n",
    "    if val_acc > best_val_acc:\n",
    "        best_val_acc = val_acc\n",
    "        torch.save(model.state_dict(), 'best_model_phase1.pth')\n",
    "        print(\"Đã lưu mô hình tốt nhất Giai đoạn 1!\")"
   ]
  },
  {
   "cell_type": "code",
   "execution_count": 12,
   "id": "ef849f6b-50d3-4b9c-9da1-a9c9d7ebe301",
   "metadata": {},
   "outputs": [
    {
     "name": "stdout",
     "output_type": "stream",
     "text": [
      "\n",
      "--- Bắt đầu Giai đoạn 2: Tinh chỉnh toàn bộ mô hình (10 epochs) ---\n",
      "Epoch 1/10\n",
      "----------\n"
     ]
    },
    {
     "name": "stderr",
     "output_type": "stream",
     "text": [
      "Training Phase 2:   1%|▌                                                          | 51/5868 [06:00<11:25:47,  7.07s/it]\n"
     ]
    },
    {
     "ename": "KeyboardInterrupt",
     "evalue": "",
     "output_type": "error",
     "traceback": [
      "\u001b[1;31m---------------------------------------------------------------------------\u001b[0m",
      "\u001b[1;31mKeyboardInterrupt\u001b[0m                         Traceback (most recent call last)",
      "Cell \u001b[1;32mIn[12], line 22\u001b[0m\n\u001b[0;32m     20\u001b[0m model\u001b[38;5;241m.\u001b[39mtrain()\n\u001b[0;32m     21\u001b[0m \u001b[38;5;28;01mfor\u001b[39;00m inputs, labels \u001b[38;5;129;01min\u001b[39;00m tqdm(train_loader, desc\u001b[38;5;241m=\u001b[39m\u001b[38;5;124m\"\u001b[39m\u001b[38;5;124mTraining Phase 2\u001b[39m\u001b[38;5;124m\"\u001b[39m):\n\u001b[1;32m---> 22\u001b[0m     inputs, labels \u001b[38;5;241m=\u001b[39m \u001b[43minputs\u001b[49m\u001b[38;5;241;43m.\u001b[39;49m\u001b[43mto\u001b[49m\u001b[43m(\u001b[49m\u001b[43mdevice\u001b[49m\u001b[43m)\u001b[49m, labels\u001b[38;5;241m.\u001b[39mto(device)\n\u001b[0;32m     23\u001b[0m     optimizer\u001b[38;5;241m.\u001b[39mzero_grad()\n\u001b[0;32m     24\u001b[0m     outputs \u001b[38;5;241m=\u001b[39m model(inputs)\n",
      "\u001b[1;31mKeyboardInterrupt\u001b[0m: "
     ]
    }
   ],
   "source": [
    "# Giai đoạn 2: Tinh chỉnh (fine-tuning) toàn bộ mô hình\n",
    "# Mở đóng băng tất cả các tham số\n",
    "for param in model.parameters():\n",
    "    param.requires_grad = True\n",
    "\n",
    "# Định nghĩa lại bộ tối ưu với tốc độ học thấp hơn cho toàn bộ mô hình\n",
    "optimizer = optim.Adam(model.parameters(), lr=0.0001)\n",
    "\n",
    "# Tải lại mô hình tốt nhất từ giai đoạn 1\n",
    "model.load_state_dict(torch.load('best_model_phase1.pth'))\n",
    "\n",
    "epochs_phase2 = 10\n",
    "print(f\"\\n--- Bắt đầu Giai đoạn 2: Tinh chỉnh toàn bộ mô hình ({epochs_phase2} epochs) ---\")\n",
    "best_val_acc = 0.0\n",
    "\n",
    "for epoch in range(epochs_phase2):\n",
    "    print(f'Epoch {epoch+1}/{epochs_phase2}')\n",
    "    print('-' * 10)\n",
    "    \n",
    "    model.train()\n",
    "    for inputs, labels in tqdm(train_loader, desc=\"Training Phase 2\"):\n",
    "        inputs, labels = inputs.to(device), labels.to(device)\n",
    "        optimizer.zero_grad()\n",
    "        outputs = model(inputs)\n",
    "        loss = criterion(outputs, labels)\n",
    "        loss.backward()\n",
    "        optimizer.step()\n",
    "        \n",
    "    model.eval()\n",
    "    running_corrects = 0\n",
    "    with torch.no_grad():\n",
    "        for inputs, labels in val_loader:\n",
    "            inputs, labels = inputs.to(device), labels.to(device)\n",
    "            outputs = model(inputs)\n",
    "            _, preds = torch.max(outputs, 1)\n",
    "            running_corrects += torch.sum(preds == labels.data)\n",
    "    \n",
    "    val_acc = running_corrects.double() / len(val_dataset)\n",
    "    print(f'Độ chính xác kiểm tra Giai đoạn 2: {val_acc:.4f}')\n",
    "\n",
    "    if val_acc > best_val_acc:\n",
    "        best_val_acc = val_acc\n",
    "        torch.save(model.state_dict(), 'final_best_model.pth')\n",
    "        print(\"Đã lưu mô hình tốt nhất Giai đoạn 2!\")\n",
    "\n",
    "print(\"\\n--- Huấn luyện hoàn tất ---\")\n",
    "print(f\"Độ chính xác cao nhất trên tập kiểm tra: {best_val_acc:.4f}\")"
   ]
  },
  {
   "cell_type": "code",
   "execution_count": null,
   "id": "d8ca481f-737b-4277-9cbe-2d85b413b2d4",
   "metadata": {},
   "outputs": [],
   "source": [
    "# Đánh giá mô hình trên tập test\n",
    "model.load_state_dict(torch.load('final_best_model.pth'))\n",
    "model.eval()\n",
    "all_preds = []\n",
    "all_labels = []\n",
    "\n",
    "print(\"\\n--- Đánh giá mô hình trên tập test ---\")\n",
    "for inputs, labels in tqdm(test_loader, desc=\"Testing\"):\n",
    "    inputs, labels = inputs.to(device), labels.to(device)\n",
    "    with torch.no_grad():\n",
    "        outputs = model(inputs)\n",
    "        _, preds = torch.max(outputs, 1)\n",
    "        all_preds.extend(preds.cpu().numpy())\n",
    "        all_labels.extend(labels.cpu().numpy())\n",
    "\n",
    "print(\"\\nBáo cáo phân loại:\")\n",
    "print(classification_report(all_labels, all_preds, target_names=class_names))\n",
    "\n",
    "print(\"Ma trận nhầm lẫn:\")\n",
    "conf_matrix = confusion_matrix(all_labels, all_preds)\n",
    "print(conf_matrix)"
   ]
  }
 ],
 "metadata": {
  "kernelspec": {
   "display_name": "Python 3 (ipykernel)",
   "language": "python",
   "name": "python3"
  },
  "language_info": {
   "codemirror_mode": {
    "name": "ipython",
    "version": 3
   },
   "file_extension": ".py",
   "mimetype": "text/x-python",
   "name": "python",
   "nbconvert_exporter": "python",
   "pygments_lexer": "ipython3",
   "version": "3.12.0"
  }
 },
 "nbformat": 4,
 "nbformat_minor": 5
}
