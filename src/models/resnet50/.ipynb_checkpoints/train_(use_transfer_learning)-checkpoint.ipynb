{
 "cells": [
  {
   "cell_type": "code",
   "execution_count": 1,
   "id": "pGLzmPKqTYd1",
   "metadata": {
    "colab": {
     "base_uri": "https://localhost:8080/"
    },
    "id": "pGLzmPKqTYd1",
    "outputId": "68a9006b-1d95-495a-e0b8-7ffd3d55ecf1"
   },
   "outputs": [
    {
     "name": "stdout",
     "output_type": "stream",
     "text": [
      "Mounted at /content/drive\n"
     ]
    }
   ],
   "source": [
    "# Dung Colab\n",
    "from google.colab import drive\n",
    "drive.mount('/content/drive')"
   ]
  },
  {
   "cell_type": "code",
   "execution_count": 2,
   "id": "dSdcrnoRTlqq",
   "metadata": {
    "colab": {
     "base_uri": "https://localhost:8080/"
    },
    "id": "dSdcrnoRTlqq",
    "outputId": "f192b637-5133-469c-be5a-f2d345f65b73"
   },
   "outputs": [
    {
     "name": "stdout",
     "output_type": "stream",
     "text": [
      "Đã giải nén dataset thành công!\n",
      "Phan da giai nen\n",
      "total 4.0K\n",
      "drwxr-xr-x 6 root root 4.0K Jun 30 10:28 AlzheimerData_Augmented\n"
     ]
    }
   ],
   "source": [
    "# Dung Colab\n",
    "import os\n",
    "\n",
    "zip_path = '/content/drive/MyDrive/AlzheimerData_Augmented.zip'\n",
    "unzip_dir = '/content/Alzheimer-s-Det_Augmented'\n",
    "\n",
    "# Tạo thư mục đích\n",
    "os.makedirs(unzip_dir, exist_ok=True)\n",
    "\n",
    "# Lệnh giải nén\n",
    "!unzip -q \"{zip_path}\" -d \"{unzip_dir}\"\n",
    "\n",
    "print(\"Đã giải nén dataset thành công!\")\n",
    "\n",
    "print(\"Phan da giai nen\")\n",
    "!ls -lh \"{unzip_dir}\""
   ]
  },
  {
   "cell_type": "code",
   "execution_count": 1,
   "id": "429c9978-7526-4e12-85c5-04d572bceb9f",
   "metadata": {
    "id": "429c9978-7526-4e12-85c5-04d572bceb9f"
   },
   "outputs": [],
   "source": [
    "import os\n",
    "import torch\n",
    "import torch.nn as nn\n",
    "import torch.optim as optim\n",
    "from torch.utils.data import DataLoader, random_split\n",
    "from torchvision import datasets, models, transforms\n",
    "from tqdm import tqdm\n",
    "import matplotlib.pyplot as plt\n",
    "from sklearn.metrics import classification_report, confusion_matrix\n",
    "import numpy as np"
   ]
  },
  {
   "cell_type": "code",
   "execution_count": 2,
   "id": "23740ae8-6fe9-47f8-8b20-6ad29877be59",
   "metadata": {
    "id": "23740ae8-6fe9-47f8-8b20-6ad29877be59"
   },
   "outputs": [],
   "source": [
    "# Khai báo đường dẫn đến dataset đã được tăng cường trước đó\n",
    "data_dir = r\"C:\\Users\\nguye\\Downloads\\ML-DL\\Dataset\\AlzheimerData_Augmented\"\n",
    "# Định nghĩa các phép biến đổi dữ liệu\n",
    "# Chúng giúp chuẩn hóa và tiền xử lý ảnh để phù hợp với mô hình\n",
    "data_transforms = {\n",
    "    'train': transforms.Compose([\n",
    "        transforms.Resize(256),\n",
    "        transforms.CenterCrop(224),\n",
    "        transforms.ToTensor(),\n",
    "        transforms.Normalize([0.485, 0.456, 0.406], [0.229, 0.224, 0.225])\n",
    "    ]),\n",
    "    'val_test': transforms.Compose([\n",
    "        transforms.Resize(256),\n",
    "        transforms.CenterCrop(224),\n",
    "        transforms.ToTensor(),\n",
    "        transforms.Normalize([0.485, 0.456, 0.406], [0.229, 0.224, 0.225])\n",
    "    ]),\n",
    "}"
   ]
  },
  {
   "cell_type": "code",
   "execution_count": 3,
   "id": "91502d39-1a6c-4045-aa8e-a28f8cbdf273",
   "metadata": {
    "colab": {
     "base_uri": "https://localhost:8080/"
    },
    "id": "91502d39-1a6c-4045-aa8e-a28f8cbdf273",
    "outputId": "0ae90686-d3d2-49e1-d928-8671e5e17219"
   },
   "outputs": [
    {
     "name": "stdout",
     "output_type": "stream",
     "text": [
      "Các lớp tìm thấy: ['Mild Dementia', 'Moderate Dementia', 'Non Demented', 'Very mild Dementia']\n"
     ]
    }
   ],
   "source": [
    "# Tải dữ liệu bằng ImageFolder\n",
    "full_dataset = datasets.ImageFolder(data_dir, data_transforms['val_test'])\n",
    "class_names = full_dataset.classes \n",
    "print(f\"Các lớp tìm thấy: {class_names}\")"
   ]
  },
  {
   "cell_type": "code",
   "execution_count": 4,
   "id": "3c171ff7-fde2-46da-9c3a-3e09eefe0fb2",
   "metadata": {
    "colab": {
     "base_uri": "https://localhost:8080/"
    },
    "id": "3c171ff7-fde2-46da-9c3a-3e09eefe0fb2",
    "outputId": "535decb3-3d01-44a9-f50b-0d65b358e465"
   },
   "outputs": [
    {
     "name": "stdout",
     "output_type": "stream",
     "text": [
      "Tổng số mẫu: 268217\n",
      "Kích thước tập huấn luyện: 187751\n",
      "Kích thước tập kiểm tra: 40232\n",
      "Kích thước tập đánh giá: 40234\n"
     ]
    }
   ],
   "source": [
    "# Chia dataset thành các tập train, validation và test\n",
    "dataset_size = len(full_dataset)\n",
    "train_size = int(0.7 * dataset_size)\n",
    "val_size = int(0.15 * dataset_size)\n",
    "test_size = dataset_size - train_size - val_size\n",
    "\n",
    "train_dataset, val_dataset, test_dataset = random_split(full_dataset, [train_size, val_size, test_size])\n",
    "\n",
    "# Áp dụng transform huấn luyện cho tập train\n",
    "train_dataset.dataset.transform = data_transforms['train']\n",
    "\n",
    "print(f\"Tổng số mẫu: {dataset_size}\")\n",
    "print(f\"Kích thước tập huấn luyện: {len(train_dataset)}\")\n",
    "print(f\"Kích thước tập kiểm tra: {len(val_dataset)}\")\n",
    "print(f\"Kích thước tập đánh giá: {len(test_dataset)}\")"
   ]
  },
  {
   "cell_type": "code",
   "execution_count": 5,
   "id": "a9a8e388-67f5-4d67-b70e-ce2d2fc73ce6",
   "metadata": {
    "id": "a9a8e388-67f5-4d67-b70e-ce2d2fc73ce6"
   },
   "outputs": [],
   "source": [
    "# Tạo DataLoader để load dữ liệu theo lô (batch)\n",
    "batch_size = 32\n",
    "train_loader = DataLoader(train_dataset, batch_size=batch_size, shuffle=True, num_workers=4)\n",
    "val_loader = DataLoader(val_dataset, batch_size=batch_size, shuffle=False, num_workers=4)\n",
    "test_loader = DataLoader(test_dataset, batch_size=batch_size, shuffle=False, num_workers=4)"
   ]
  },
  {
   "cell_type": "code",
   "execution_count": 6,
   "id": "31c1cd8f-6fc6-4884-bc7c-265cb75646b3",
   "metadata": {
    "colab": {
     "base_uri": "https://localhost:8080/"
    },
    "id": "31c1cd8f-6fc6-4884-bc7c-265cb75646b3",
    "outputId": "2ec25e30-5cd6-42d6-b231-305eef5bf0b8"
   },
   "outputs": [
    {
     "name": "stderr",
     "output_type": "stream",
     "text": [
      "C:\\Users\\nguye\\AppData\\Local\\Programs\\Python\\Python312\\Lib\\site-packages\\torchvision\\models\\_utils.py:208: UserWarning: The parameter 'pretrained' is deprecated since 0.13 and may be removed in the future, please use 'weights' instead.\n",
      "  warnings.warn(\n",
      "C:\\Users\\nguye\\AppData\\Local\\Programs\\Python\\Python312\\Lib\\site-packages\\torchvision\\models\\_utils.py:223: UserWarning: Arguments other than a weight enum or `None` for 'weights' are deprecated since 0.13 and may be removed in the future. The current behavior is equivalent to passing `weights=ResNet50_Weights.IMAGENET1K_V1`. You can also use `weights=ResNet50_Weights.DEFAULT` to get the most up-to-date weights.\n",
      "  warnings.warn(msg)\n"
     ]
    }
   ],
   "source": [
    "# Tải mô hình ResNet-50 đã được huấn luyện trước\n",
    "model = models.resnet50(pretrained=True)"
   ]
  },
  {
   "cell_type": "code",
   "execution_count": 7,
   "id": "fa81184f-2040-451d-8f91-a8da4000f49e",
   "metadata": {
    "id": "fa81184f-2040-451d-8f91-a8da4000f49e"
   },
   "outputs": [],
   "source": [
    "# Đóng băng các tham số của mô hình\n",
    "for param in model.parameters():\n",
    "    param.requires_grad = False"
   ]
  },
  {
   "cell_type": "code",
   "execution_count": 8,
   "id": "f5aab942-c903-488b-9366-21f1673d0f33",
   "metadata": {
    "id": "f5aab942-c903-488b-9366-21f1673d0f33"
   },
   "outputs": [],
   "source": [
    "# Thay thế lớp cuối cùng để phù hợp với số lượng lớp của bạn\n",
    "num_ftrs = model.fc.in_features\n",
    "model.fc = nn.Linear(num_ftrs, len(class_names))"
   ]
  },
  {
   "cell_type": "code",
   "execution_count": 9,
   "id": "77628751-8438-4318-899a-bc77c8b4f552",
   "metadata": {
    "colab": {
     "base_uri": "https://localhost:8080/"
    },
    "id": "77628751-8438-4318-899a-bc77c8b4f552",
    "outputId": "c54eec60-9144-4b35-8817-bc5e5c9ab1b6"
   },
   "outputs": [
    {
     "name": "stdout",
     "output_type": "stream",
     "text": [
      "Sử dụng thiết bị: cuda\n"
     ]
    }
   ],
   "source": [
    "# Chuyển đổi mô hình sang GPU\n",
    "device = torch.device(\"cuda\" if torch.cuda.is_available() else \"cpu\")\n",
    "model = model.to(device)\n",
    "print(f\"Sử dụng thiết bị: {device}\")"
   ]
  },
  {
   "cell_type": "code",
   "execution_count": 10,
   "id": "1663d449-70c2-4f6b-a609-ffb053d493cf",
   "metadata": {
    "id": "1663d449-70c2-4f6b-a609-ffb053d493cf"
   },
   "outputs": [],
   "source": [
    "# Định nghĩa hàm mất mát và bộ tối ưu\n",
    "criterion = nn.CrossEntropyLoss()\n",
    "optimizer = optim.Adam(model.parameters(), lr=0.001)"
   ]
  },
  {
   "cell_type": "code",
   "execution_count": 11,
   "id": "ebbde94e-c097-4214-8a2c-31769ab209ac",
   "metadata": {
    "colab": {
     "base_uri": "https://localhost:8080/"
    },
    "id": "ebbde94e-c097-4214-8a2c-31769ab209ac",
    "outputId": "908471de-6822-4920-9f6b-b57951bd5d83"
   },
   "outputs": [
    {
     "name": "stdout",
     "output_type": "stream",
     "text": [
      "\n",
      "--- Bắt đầu Giai đoạn 1: Huấn luyện lớp cuối cùng (5 epochs) ---\n",
      "Epoch 1/5\n",
      "----------\n"
     ]
    },
    {
     "name": "stderr",
     "output_type": "stream",
     "text": [
      "Training Phase 1: 100%|████████████████████████████████████████████████████████████| 5868/5868 [17:11<00:00,  5.69it/s]\n"
     ]
    },
    {
     "name": "stdout",
     "output_type": "stream",
     "text": [
      "Độ chính xác kiểm tra Giai đoạn 1: 0.6990\n",
      "Đã lưu mô hình tốt nhất Giai đoạn 1!\n",
      "Epoch 2/5\n",
      "----------\n"
     ]
    },
    {
     "name": "stderr",
     "output_type": "stream",
     "text": [
      "Training Phase 1: 100%|████████████████████████████████████████████████████████████| 5868/5868 [17:22<00:00,  5.63it/s]\n"
     ]
    },
    {
     "name": "stdout",
     "output_type": "stream",
     "text": [
      "Độ chính xác kiểm tra Giai đoạn 1: 0.7173\n",
      "Đã lưu mô hình tốt nhất Giai đoạn 1!\n",
      "Epoch 3/5\n",
      "----------\n"
     ]
    },
    {
     "name": "stderr",
     "output_type": "stream",
     "text": [
      "Training Phase 1: 100%|████████████████████████████████████████████████████████████| 5868/5868 [17:02<00:00,  5.74it/s]\n"
     ]
    },
    {
     "name": "stdout",
     "output_type": "stream",
     "text": [
      "Độ chính xác kiểm tra Giai đoạn 1: 0.7260\n",
      "Đã lưu mô hình tốt nhất Giai đoạn 1!\n",
      "Epoch 4/5\n",
      "----------\n"
     ]
    },
    {
     "name": "stderr",
     "output_type": "stream",
     "text": [
      "Training Phase 1: 100%|████████████████████████████████████████████████████████████| 5868/5868 [17:31<00:00,  5.58it/s]\n"
     ]
    },
    {
     "name": "stdout",
     "output_type": "stream",
     "text": [
      "Độ chính xác kiểm tra Giai đoạn 1: 0.7272\n",
      "Đã lưu mô hình tốt nhất Giai đoạn 1!\n",
      "Epoch 5/5\n",
      "----------\n"
     ]
    },
    {
     "name": "stderr",
     "output_type": "stream",
     "text": [
      "Training Phase 1: 100%|████████████████████████████████████████████████████████████| 5868/5868 [17:30<00:00,  5.59it/s]\n"
     ]
    },
    {
     "name": "stdout",
     "output_type": "stream",
     "text": [
      "Độ chính xác kiểm tra Giai đoạn 1: 0.7447\n",
      "Đã lưu mô hình tốt nhất Giai đoạn 1!\n"
     ]
    }
   ],
   "source": [
    "# Bắt đầu quá trình huấn luyện Giai đoạn 1\n",
    "epochs_phase1 = 5\n",
    "print(f\"\\n--- Bắt đầu Giai đoạn 1: Huấn luyện lớp cuối cùng ({epochs_phase1} epochs) ---\")\n",
    "best_val_acc = 0.0\n",
    "\n",
    "for epoch in range(epochs_phase1):\n",
    "    print(f'Epoch {epoch+1}/{epochs_phase1}')\n",
    "    print('-' * 10)\n",
    "\n",
    "    model.train()\n",
    "    for inputs, labels in tqdm(train_loader, desc=\"Training Phase 1\"):\n",
    "        inputs, labels = inputs.to(device), labels.to(device)\n",
    "        optimizer.zero_grad()\n",
    "        outputs = model(inputs)\n",
    "        loss = criterion(outputs, labels)\n",
    "        loss.backward()\n",
    "        optimizer.step()\n",
    "\n",
    "    # Kiểm tra hiệu suất trên tập validation sau mỗi epoch\n",
    "    model.eval()\n",
    "    running_corrects = 0\n",
    "    with torch.no_grad():\n",
    "        for inputs, labels in val_loader:\n",
    "            inputs, labels = inputs.to(device), labels.to(device)\n",
    "            outputs = model(inputs)\n",
    "            _, preds = torch.max(outputs, 1)\n",
    "            running_corrects += torch.sum(preds == labels.data)\n",
    "\n",
    "    val_acc = running_corrects.double() / len(val_dataset)\n",
    "    print(f'Độ chính xác kiểm tra Giai đoạn 1: {val_acc:.4f}')\n",
    "\n",
    "    if val_acc > best_val_acc:\n",
    "        best_val_acc = val_acc\n",
    "        torch.save(model.state_dict(), 'best_model_phase1.pth')\n",
    "        print(\"Đã lưu mô hình tốt nhất Giai đoạn 1!\")"
   ]
  },
  {
   "cell_type": "code",
   "execution_count": 13,
   "id": "ef849f6b-50d3-4b9c-9da1-a9c9d7ebe301",
   "metadata": {
    "colab": {
     "base_uri": "https://localhost:8080/"
    },
    "id": "ef849f6b-50d3-4b9c-9da1-a9c9d7ebe301",
    "outputId": "1dde11fd-6de3-4680-8853-70df53dd577f"
   },
   "outputs": [
    {
     "name": "stdout",
     "output_type": "stream",
     "text": [
      "\n",
      "--- Bắt đầu Giai đoạn 2: Tinh chỉnh toàn bộ mô hình (5 epochs) ---\n",
      "Epoch 1/5\n",
      "----------\n"
     ]
    },
    {
     "name": "stderr",
     "output_type": "stream",
     "text": [
      "Training Phase 2: 100%|████████████████████████████████████████████████████████████| 5868/5868 [49:12<00:00,  1.99it/s]\n"
     ]
    },
    {
     "name": "stdout",
     "output_type": "stream",
     "text": [
      "Độ chính xác kiểm tra Giai đoạn 2: 0.9873\n",
      "Đã lưu mô hình tốt nhất Giai đoạn 2!\n",
      "Epoch 2/5\n",
      "----------\n"
     ]
    },
    {
     "name": "stderr",
     "output_type": "stream",
     "text": [
      "Training Phase 2:   2%|█▎                                                         | 126/5868 [01:20<1:00:53,  1.57it/s]\n"
     ]
    },
    {
     "ename": "KeyboardInterrupt",
     "evalue": "",
     "output_type": "error",
     "traceback": [
      "\u001b[1;31m---------------------------------------------------------------------------\u001b[0m",
      "\u001b[1;31mKeyboardInterrupt\u001b[0m                         Traceback (most recent call last)",
      "Cell \u001b[1;32mIn[13], line 22\u001b[0m\n\u001b[0;32m     20\u001b[0m model\u001b[38;5;241m.\u001b[39mtrain()\n\u001b[0;32m     21\u001b[0m \u001b[38;5;28;01mfor\u001b[39;00m inputs, labels \u001b[38;5;129;01min\u001b[39;00m tqdm(train_loader, desc\u001b[38;5;241m=\u001b[39m\u001b[38;5;124m\"\u001b[39m\u001b[38;5;124mTraining Phase 2\u001b[39m\u001b[38;5;124m\"\u001b[39m):\n\u001b[1;32m---> 22\u001b[0m     inputs, labels \u001b[38;5;241m=\u001b[39m \u001b[43minputs\u001b[49m\u001b[38;5;241;43m.\u001b[39;49m\u001b[43mto\u001b[49m\u001b[43m(\u001b[49m\u001b[43mdevice\u001b[49m\u001b[43m)\u001b[49m, labels\u001b[38;5;241m.\u001b[39mto(device)\n\u001b[0;32m     23\u001b[0m     optimizer\u001b[38;5;241m.\u001b[39mzero_grad()\n\u001b[0;32m     24\u001b[0m     outputs \u001b[38;5;241m=\u001b[39m model(inputs)\n",
      "\u001b[1;31mKeyboardInterrupt\u001b[0m: "
     ]
    }
   ],
   "source": [
    "# Giai đoạn 2: Tinh chỉnh (fine-tuning) toàn bộ mô hình\n",
    "# Mở đóng băng tất cả các tham số\n",
    "for param in model.parameters():\n",
    "    param.requires_grad = True\n",
    "\n",
    "# Định nghĩa lại bộ tối ưu với tốc độ học thấp hơn cho toàn bộ mô hình\n",
    "optimizer = optim.Adam(model.parameters(), lr=0.0001)\n",
    "\n",
    "# Tải lại mô hình tốt nhất từ giai đoạn 1\n",
    "model.load_state_dict(torch.load(r\"C:\\Users\\nguye\\Downloads\\ML-DL\\Alzheimer-s-Det\\src\\models\\resnet50\\best_model_phase1.pth\"))\n",
    "\n",
    "epochs_phase2 = 5\n",
    "print(f\"\\n--- Bắt đầu Giai đoạn 2: Tinh chỉnh toàn bộ mô hình ({epochs_phase2} epochs) ---\")\n",
    "best_val_acc = 0.0\n",
    "\n",
    "for epoch in range(epochs_phase2):\n",
    "    print(f'Epoch {epoch+1}/{epochs_phase2}')\n",
    "    print('-' * 10)\n",
    "\n",
    "    model.train()\n",
    "    for inputs, labels in tqdm(train_loader, desc=\"Training Phase 2\"):\n",
    "        inputs, labels = inputs.to(device), labels.to(device)\n",
    "        optimizer.zero_grad()\n",
    "        outputs = model(inputs)\n",
    "        loss = criterion(outputs, labels)\n",
    "        loss.backward()\n",
    "        optimizer.step()\n",
    "\n",
    "    model.eval()\n",
    "    running_corrects = 0\n",
    "    with torch.no_grad():\n",
    "        for inputs, labels in val_loader:\n",
    "            inputs, labels = inputs.to(device), labels.to(device)\n",
    "            outputs = model(inputs)\n",
    "            _, preds = torch.max(outputs, 1)\n",
    "            running_corrects += torch.sum(preds == labels.data)\n",
    "\n",
    "    val_acc = running_corrects.double() / len(val_dataset)\n",
    "    print(f'Độ chính xác kiểm tra Giai đoạn 2: {val_acc:.4f}')\n",
    "\n",
    "    if val_acc > best_val_acc:\n",
    "        best_val_acc = val_acc\n",
    "        torch.save(model.state_dict(), 'final_best_model.pth')\n",
    "        print(\"Đã lưu mô hình tốt nhất Giai đoạn 2!\")\n",
    "\n",
    "print(\"\\n--- Huấn luyện hoàn tất ---\")\n",
    "print(f\"Độ chính xác cao nhất trên tập kiểm tra: {best_val_acc:.4f}\")"
   ]
  },
  {
   "cell_type": "code",
   "execution_count": 14,
   "id": "d8ca481f-737b-4277-9cbe-2d85b413b2d4",
   "metadata": {
    "colab": {
     "base_uri": "https://localhost:8080/"
    },
    "id": "d8ca481f-737b-4277-9cbe-2d85b413b2d4",
    "outputId": "242c6474-63f3-4f3e-84d0-93da0cfabb80"
   },
   "outputs": [
    {
     "name": "stdout",
     "output_type": "stream",
     "text": [
      "\n",
      "--- Đánh giá mô hình trên tập test ---\n"
     ]
    },
    {
     "name": "stderr",
     "output_type": "stream",
     "text": [
      "Testing: 100%|█████████████████████████████████████████████████████████████████████| 1258/1258 [04:13<00:00,  4.97it/s]"
     ]
    },
    {
     "name": "stdout",
     "output_type": "stream",
     "text": [
      "\n",
      "Báo cáo phân loại:\n",
      "                    precision    recall  f1-score   support\n",
      "\n",
      "     Mild Dementia       0.99      0.97      0.98      9747\n",
      " Moderate Dementia       1.00      1.00      1.00     10126\n",
      "      Non Demented       0.99      0.99      0.99     10154\n",
      "Very mild Dementia       0.97      0.98      0.98     10207\n",
      "\n",
      "          accuracy                           0.99     40234\n",
      "         macro avg       0.99      0.99      0.99     40234\n",
      "      weighted avg       0.99      0.99      0.99     40234\n",
      "\n",
      "Ma trận nhầm lẫn:\n",
      "[[ 9471    14    24   238]\n",
      " [    0 10122     1     3]\n",
      " [    8     0 10091    55]\n",
      " [   74    11    74 10048]]\n"
     ]
    },
    {
     "name": "stderr",
     "output_type": "stream",
     "text": [
      "\n"
     ]
    }
   ],
   "source": [
    "# Đánh giá mô hình trên tập test\n",
    "model.load_state_dict(torch.load('final_best_model.pth'))\n",
    "model.eval()\n",
    "all_preds = []\n",
    "all_labels = []\n",
    "\n",
    "print(\"\\n--- Đánh giá mô hình trên tập test ---\")\n",
    "for inputs, labels in tqdm(test_loader, desc=\"Testing\"):\n",
    "    inputs, labels = inputs.to(device), labels.to(device)\n",
    "    with torch.no_grad():\n",
    "        outputs = model(inputs)\n",
    "        _, preds = torch.max(outputs, 1)\n",
    "        all_preds.extend(preds.cpu().numpy())\n",
    "        all_labels.extend(labels.cpu().numpy())\n",
    "\n",
    "print(\"\\nBáo cáo phân loại:\")\n",
    "# Add the 'labels' parameter to include all possible classes\n",
    "print(classification_report(all_labels, all_preds, target_names=class_names, labels=np.arange(len(class_names))))\n",
    "\n",
    "print(\"Ma trận nhầm lẫn:\")\n",
    "conf_matrix = confusion_matrix(all_labels, all_preds)\n",
    "print(conf_matrix)"
   ]
  },
  {
   "cell_type": "code",
   "execution_count": null,
   "id": "56553c97-9e00-4158-97bf-89b4733a630c",
   "metadata": {},
   "outputs": [],
   "source": []
  }
 ],
 "metadata": {
  "accelerator": "GPU",
  "colab": {
   "gpuType": "T4",
   "provenance": []
  },
  "kernelspec": {
   "display_name": "Python 3 (ipykernel)",
   "language": "python",
   "name": "python3"
  },
  "language_info": {
   "codemirror_mode": {
    "name": "ipython",
    "version": 3
   },
   "file_extension": ".py",
   "mimetype": "text/x-python",
   "name": "python",
   "nbconvert_exporter": "python",
   "pygments_lexer": "ipython3",
   "version": "3.12.0"
  }
 },
 "nbformat": 4,
 "nbformat_minor": 5
}
